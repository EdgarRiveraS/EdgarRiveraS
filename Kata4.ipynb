{
 "cells": [
  {
   "cell_type": "code",
   "execution_count": null,
   "metadata": {},
   "outputs": [],
   "source": [
    "text = \"\"\"Interesting facts about the Moon. The Moon is Earth's only satellite. There are several interesting facts about the Moon and how it affects life here on Earth. \n",
    "On average, the Moon moves 4cm away from the Earth every year. This yearly drift is not significant enough to cause immediate effects on Earth. The highest daylight temperature of the Moon is 127 C.\"\"\"\n",
    "\n",
    "textPartes = text.split('.')\n",
    "print(textPartes)\n",
    "\n",
    "for recorrer in textPartes:\n",
    "    if \"average\" in  recorrer or \"temperature\" in  recorrer or \"distance\" in  recorrer:\n",
    "        print(recorrer.replace('C', 'Celsius'))"
   ]
  },
  {
   "cell_type": "code",
   "execution_count": 91,
   "metadata": {},
   "outputs": [
    {
     "name": "stdout",
     "output_type": "stream",
     "text": [
      "Datos De Gravedad Sobre Moon \n",
      "-------------------------------------------------- \n",
      "Nombre del planeta: Earth \n",
      "Gravedad en Moon: 1.6199999999999999 m/s2  \n",
      "\n",
      "Datos de gravedad sobre Ganímedes\n",
      "'---------------------------------------'\n",
      "Nombre del planeta: Marte  \n",
      "Gravedad en Ganímedes: 1.4300000000000002 m/s2 \n"
     ]
    }
   ],
   "source": [
    "nombre = \"Moon\"\n",
    "gravedad = 0.00162 # in kms\n",
    "planeta = \"Earth\"\n",
    "titulo = f'Datos de gravedad sobre {nombre}'\n",
    "\n",
    "cuerpo = f\"\"\"{'-'*50} \n",
    "Nombre del planeta: {planeta} \n",
    "Gravedad en {nombre}: {gravedad * 1000} m/s2 \"\"\"\n",
    "\n",
    "plantilla = f\"\"\"{titulo.title()} \n",
    "{cuerpo} \"\"\"\n",
    "print(plantilla)\n",
    "\n",
    "luna = 'Ganímedes'\n",
    "planet = 'Marte '\n",
    "graveda  = 0.00143\n",
    "\n",
    "newcuerpo = \"\"\"Datos de gravedad sobre {nombre}\n",
    "'---------------------------------------'\n",
    "Nombre del planeta: {planeta} \n",
    "Gravedad en {nombre}: {gravedad} m/s2 \"\"\"\n",
    "print()\n",
    "print(newcuerpo.format(planeta=planet,nombre=luna,gravedad=graveda*1000))\n"
   ]
  }
 ],
 "metadata": {
  "interpreter": {
   "hash": "0dda09140a1fd88ea879080486bbeb4c81cc74626dc51b563162033e734c6912"
  },
  "kernelspec": {
   "display_name": "Python 3.10.2 64-bit",
   "language": "python",
   "name": "python3"
  },
  "language_info": {
   "codemirror_mode": {
    "name": "ipython",
    "version": 3
   },
   "file_extension": ".py",
   "mimetype": "text/x-python",
   "name": "python",
   "nbconvert_exporter": "python",
   "pygments_lexer": "ipython3",
   "version": "3.10.2"
  },
  "orig_nbformat": 4
 },
 "nbformat": 4,
 "nbformat_minor": 2
}

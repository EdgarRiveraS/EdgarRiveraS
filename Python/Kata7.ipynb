{
 "cells": [
  {
   "cell_type": "code",
   "execution_count": 5,
   "metadata": {},
   "outputs": [],
   "source": [
    "new_planet = \"\"\n",
    "planets = []\n",
    "while new_planet.lower() != 'done':\n",
    "    if (new_planet != \"\"):\n",
    "        planets.append(new_planet)\n",
    "    new_planet = input('Ingresa nombres de planetas, finaliza esccribiendo done')"
   ]
  },
  {
   "cell_type": "code",
   "execution_count": 6,
   "metadata": {},
   "outputs": [
    {
     "name": "stdout",
     "output_type": "stream",
     "text": [
      "La lista de los planetas ingresados es:\n",
      "\n",
      "Planeta 1 : marte\n",
      "Planeta 2 : jupiter\n",
      "Planeta 3 : saturno\n"
     ]
    }
   ],
   "source": [
    "planet = len(planets)\n",
    "print (\"La lista de los planetas ingresados es:\")\n",
    "print()\n",
    "for i in range(planet):\n",
    "    print(\"Planeta\", i+1, \":\",planets[i])"
   ]
  }
 ],
 "metadata": {
  "interpreter": {
   "hash": "0dda09140a1fd88ea879080486bbeb4c81cc74626dc51b563162033e734c6912"
  },
  "kernelspec": {
   "display_name": "Python 3.10.2 64-bit",
   "language": "python",
   "name": "python3"
  },
  "language_info": {
   "codemirror_mode": {
    "name": "ipython",
    "version": 3
   },
   "file_extension": ".py",
   "mimetype": "text/x-python",
   "name": "python",
   "nbconvert_exporter": "python",
   "pygments_lexer": "ipython3",
   "version": "3.10.2"
  },
  "orig_nbformat": 4
 },
 "nbformat": 4,
 "nbformat_minor": 2
}

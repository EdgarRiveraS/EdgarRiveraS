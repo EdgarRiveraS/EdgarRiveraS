{
 "cells": [
  {
   "cell_type": "code",
   "execution_count": 45,
   "metadata": {},
   "outputs": [
    {
     "name": "stdout",
     "output_type": "stream",
     "text": [
      "necesitamos saber la cantidad de conbustible que existe en los tanques\n",
      "El combustible esta distribuido de la siguiente manera:\n",
      "En el tanque N° 1 cuenta con 20 litros\n",
      "En el tanque N° 2 cuenta con 30 litros\n",
      "En el tanque N° 3 cuenta con 25 litros\n",
      "En promedio tenemos 25.0 litros\n"
     ]
    }
   ],
   "source": [
    "tanques = [0,0,0]\n",
    "def tanques_conbustible ():\n",
    "    print(\"necesitamos saber la cantidad de conbustible que existe en los tanques\")\n",
    "    for i in range(len(tanques)):\n",
    "        entrada = int(input(\"Ingresa la cantidad de los tanques combustible\"))\n",
    "        tanques[i]=entrada\n",
    "def promedio_conbustible():\n",
    "    total_conbusatible = 0\n",
    "    for i in range(3):\n",
    "        total_conbusatible = total_conbusatible + tanques[i]\n",
    "    promedio = total_conbusatible / 3\n",
    "    return (promedio)\n",
    "def reporte():\n",
    "    print(\"El combustible esta distribuido de la siguiente manera:\")\n",
    "    for i in range(3):\n",
    "        print(\"En el tanque N°\", i+1, \"cuenta con\",tanques[i],\"litros\")\n",
    "    print(\"En promedio tenemos\", promedio_conbustible(),\"litros\")\n",
    "tanques_conbustible()\n",
    "reporte()"
   ]
  },
  {
   "cell_type": "code",
   "execution_count": 44,
   "metadata": {},
   "outputs": [
    {
     "name": "stdout",
     "output_type": "stream",
     "text": [
      "Ingrese los detalles de la misión\n",
      "La nave tardara en llegar a Jupiter 200 horas debido a las 6 horas de espera del prelanzamiento, no obstante contamos con 5 tanques de combustible con las siguientes cantidades\n",
      "Cantidad de conbustible en el tanque N° 1 es 20 litros\n",
      "Cantidad de conbustible en el tanque N° 2 es 30 litros\n",
      "Cantidad de conbustible en el tanque N° 3 es 40 litros\n",
      "Cantidad de conbustible en el tanque N° 4 es 50 litros\n",
      "Cantidad de conbustible en el tanque N° 5 es 60 litros\n"
     ]
    }
   ],
   "source": [
    "tanques_mision = []\n",
    "hora = {\n",
    "    'tiempo_vuelo' : 0,\n",
    "    'prelanzamiento' : 0\n",
    "}\n",
    "cohete = {\n",
    "    'destino' : \"\",\n",
    "    'tiempo' : hora,\n",
    "}\n",
    "def detalles():\n",
    "    print (\"Ingrese los detalles de la misión\")\n",
    "    cohete['destino'] = input(\"Ingrese el destino de la misión:\")\n",
    "    cohete['tiempo']['prelanzamiento'] = input(\"Cual fue el tiempo de Prelanzamiento:\")\n",
    "    cohete['tiempo']['tiempo_vuelo'] = input(\"Ingrese el tiempo de vuelo estimado\")\n",
    "    cantidad_tanques = int(input ('Ingrese la cantidad de Tanques en el cohete'))\n",
    "    for i in range(cantidad_tanques):\n",
    "        entrada = input(\"Cantidad de conbustible en los tanques\")\n",
    "        tanques_mision.append(entrada)\n",
    "\n",
    "def informe ():\n",
    "    print(\"La nave tardara en llegar a\", cohete['destino'],cohete['tiempo']['tiempo_vuelo'],\"tardamos\",\n",
    "    cohete['tiempo']['prelanzamiento'], \"horas de espera en el prelanzamiento, no obstante contamos con\", len(tanques_mision),\n",
    "    \"tanques de combustible con las siguientes cantidades:\")\n",
    "    for i in range(len(tanques_mision)):\n",
    "        print(\"Cantidad de conbustible en el tanque N°\", i+1, \"es\", tanques_mision[i],\"litros\")\n",
    "detalles()\n",
    "informe()"
   ]
  }
 ],
 "metadata": {
  "interpreter": {
   "hash": "0dda09140a1fd88ea879080486bbeb4c81cc74626dc51b563162033e734c6912"
  },
  "kernelspec": {
   "display_name": "Python 3.10.2 64-bit",
   "language": "python",
   "name": "python3"
  },
  "language_info": {
   "codemirror_mode": {
    "name": "ipython",
    "version": 3
   },
   "file_extension": ".py",
   "mimetype": "text/x-python",
   "name": "python",
   "nbconvert_exporter": "python",
   "pygments_lexer": "ipython3",
   "version": "3.10.2"
  },
  "orig_nbformat": 4
 },
 "nbformat": 4,
 "nbformat_minor": 2
}

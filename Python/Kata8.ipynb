{
 "cells": [
  {
   "cell_type": "code",
   "execution_count": null,
   "metadata": {},
   "outputs": [],
   "source": [
    "planet = {\n",
    "    'name' : 'marte',\n",
    "    'moons' : 2 \n",
    "}\n",
    "print(\"El planeta\", planet['name'], \"tiene\",planet['moons'],\"lunas\")\n",
    "planet['circunferencia (km)'] = {'polar':6752,'equatorial': 6792}\n",
    "print(\"El planeta\", planet['name'], \"tiene\",planet['moons'],\"lunas y su circunferencia es\",planet['circunferencia (km)'])\n",
    "print(\"El planeta\", planet['name'], \"tiene\",planet['moons'],\"lunas y su circunferencia polar es\",planet['circunferencia (km)']['polar'])\n"
   ]
  },
  {
   "cell_type": "code",
   "execution_count": null,
   "metadata": {},
   "outputs": [],
   "source": [
    "planet_moons = {\n",
    "    'mercury': 0,\n",
    "    'venus': 0,\n",
    "    'earth': 1,\n",
    "    'mars': 2,\n",
    "    'jupiter': 79,\n",
    "    'saturn': 82,\n",
    "    'uranus': 27,\n",
    "    'neptune': 14,\n",
    "    'pluto': 5,\n",
    "    'haumea': 2,\n",
    "    'makemake': 1,\n",
    "    'eris': 1\n",
    "}\n",
    "total_moon = 0\n",
    "planeta = len(planet_moons)\n",
    "for moon in planet_moons.values():\n",
    "    total_moon = total_moon + moon\n",
    "print(\"El numero total de lunas es:\",total_moon,\"y el promedio de lunas por planeta es:\", total_moon / planeta)"
   ]
  }
 ],
 "metadata": {
  "interpreter": {
   "hash": "0dda09140a1fd88ea879080486bbeb4c81cc74626dc51b563162033e734c6912"
  },
  "kernelspec": {
   "display_name": "Python 3.10.2 64-bit",
   "language": "python",
   "name": "python3"
  },
  "language_info": {
   "codemirror_mode": {
    "name": "ipython",
    "version": 3
   },
   "file_extension": ".py",
   "mimetype": "text/x-python",
   "name": "python",
   "nbconvert_exporter": "python",
   "pygments_lexer": "ipython3",
   "version": "3.10.2"
  },
  "orig_nbformat": 4
 },
 "nbformat": 4,
 "nbformat_minor": 2
}

{
 "cells": [
  {
   "cell_type": "code",
   "execution_count": 4,
   "metadata": {},
   "outputs": [
    {
     "name": "stdout",
     "output_type": "stream",
     "text": [
      "Alerta asteroide dirigiendose a gran velocidad\n"
     ]
    }
   ],
   "source": [
    "asteroide = 49\n",
    "if asteroide > 25:\n",
    "    print(\"Alerta asteroide dirigiendose a gran velocidad\")\n",
    "else:\n",
    "    print(\"Sin problema grave por curso de asteroide\")\n"
   ]
  },
  {
   "cell_type": "code",
   "execution_count": 5,
   "metadata": {},
   "outputs": [
    {
     "name": "stdout",
     "output_type": "stream",
     "text": [
      "Entrara en asteroide a una baja velocidad, el cual no se podra ver\n"
     ]
    }
   ],
   "source": [
    "asteroide = 19\n",
    "if asteroide >= 20:\n",
    "    print(\"Se informa que un asteroide entrara a la atmosfera produciendo un az de luz\")\n",
    "else:\n",
    "    print (\"Entrara en asteroide a una baja velocidad, el cual no se podra ver\")"
   ]
  },
  {
   "cell_type": "code",
   "execution_count": 26,
   "metadata": {},
   "outputs": [
    {
     "name": "stdout",
     "output_type": "stream",
     "text": [
      "Estado de Alarma por Asteroide con 26km de Dimencion con una velocidad de 19km/s con probabilidad de causar mucho daño\n"
     ]
    }
   ],
   "source": [
    "dimencion = 26\n",
    "velocidad = 19\n",
    "\n",
    "if dimencion > 25 and dimencion <1000 or velocidad > 25:\n",
    "    print(\"Estado de Alarma por Asteroide con \"+str(dimencion)+\"km de Dimencion con una velocidad de \" + str(velocidad) +\"km/s con probabilidad de causar mucho daño\")\n",
    "elif dimencion >= 1000:\n",
    "    print (\"Despidase de su familia y haga las pases, estamos por extinguirnos\")\n",
    "elif dimencion <= 25 and velocidad >= 20:\n",
    "    print(\"Caera un asteroide de \"+ str(dimencion)+ \"km de dimención, el cual se quemara a medida que entre en la admosfera, produciendo un az de luz al paso que este se quema\")\n",
    "else:\n",
    "    print(\"Sin Peligro\")"
   ]
  }
 ],
 "metadata": {
  "interpreter": {
   "hash": "0dda09140a1fd88ea879080486bbeb4c81cc74626dc51b563162033e734c6912"
  },
  "kernelspec": {
   "display_name": "Python 3.10.2 64-bit",
   "language": "python",
   "name": "python3"
  },
  "language_info": {
   "codemirror_mode": {
    "name": "ipython",
    "version": 3
   },
   "file_extension": ".py",
   "mimetype": "text/x-python",
   "name": "python",
   "nbconvert_exporter": "python",
   "pygments_lexer": "ipython3",
   "version": "3.10.2"
  },
  "orig_nbformat": 4
 },
 "nbformat": 4,
 "nbformat_minor": 2
}
